{
  "nbformat": 4,
  "nbformat_minor": 0,
  "metadata": {
    "kernelspec": {
      "display_name": "Python 3",
      "language": "python",
      "name": "python3"
    },
    "language_info": {
      "codemirror_mode": {
        "name": "ipython",
        "version": 3
      },
      "file_extension": ".py",
      "mimetype": "text/x-python",
      "name": "python",
      "nbconvert_exporter": "python",
      "pygments_lexer": "ipython3",
      "version": "3.8.3"
    },
    "colab": {
      "name": "EDA_on_Habermans.ipynb",
      "provenance": []
    }
  },
  "cells": [
    {
      "cell_type": "code",
      "metadata": {
        "id": "6J7V4Iawimjw"
      },
      "source": [
        "#importing the requisite libraries\n",
        "import numpy as np\n",
        "import pandas as pd\n",
        "import matplotlib.pyplot as plt\n",
        "import seaborn as sns"
      ],
      "execution_count": null,
      "outputs": []
    },
    {
      "cell_type": "code",
      "metadata": {
        "id": "jQrf4MiHimjz",
        "outputId": "2b895f0a-88d7-44cd-c77c-19aee207d343"
      },
      "source": [
        "#Loading the csv file into the data frame\n",
        "\n",
        "#Reading the dataframe without the header so that the first observation is not lost in case the dataset is missing the Header\n",
        "#and not loose the first observation in case the header is missing\n",
        "\n",
        "df= pd.read_csv(\"haberman.csv\", header= None)\n",
        "df.head()"
      ],
      "execution_count": null,
      "outputs": [
        {
          "output_type": "execute_result",
          "data": {
            "text/html": [
              "<div>\n",
              "<style scoped>\n",
              "    .dataframe tbody tr th:only-of-type {\n",
              "        vertical-align: middle;\n",
              "    }\n",
              "\n",
              "    .dataframe tbody tr th {\n",
              "        vertical-align: top;\n",
              "    }\n",
              "\n",
              "    .dataframe thead th {\n",
              "        text-align: right;\n",
              "    }\n",
              "</style>\n",
              "<table border=\"1\" class=\"dataframe\">\n",
              "  <thead>\n",
              "    <tr style=\"text-align: right;\">\n",
              "      <th></th>\n",
              "      <th>0</th>\n",
              "      <th>1</th>\n",
              "      <th>2</th>\n",
              "      <th>3</th>\n",
              "    </tr>\n",
              "  </thead>\n",
              "  <tbody>\n",
              "    <tr>\n",
              "      <th>0</th>\n",
              "      <td>30</td>\n",
              "      <td>64</td>\n",
              "      <td>1</td>\n",
              "      <td>1</td>\n",
              "    </tr>\n",
              "    <tr>\n",
              "      <th>1</th>\n",
              "      <td>30</td>\n",
              "      <td>62</td>\n",
              "      <td>3</td>\n",
              "      <td>1</td>\n",
              "    </tr>\n",
              "    <tr>\n",
              "      <th>2</th>\n",
              "      <td>30</td>\n",
              "      <td>65</td>\n",
              "      <td>0</td>\n",
              "      <td>1</td>\n",
              "    </tr>\n",
              "    <tr>\n",
              "      <th>3</th>\n",
              "      <td>31</td>\n",
              "      <td>59</td>\n",
              "      <td>2</td>\n",
              "      <td>1</td>\n",
              "    </tr>\n",
              "    <tr>\n",
              "      <th>4</th>\n",
              "      <td>31</td>\n",
              "      <td>65</td>\n",
              "      <td>4</td>\n",
              "      <td>1</td>\n",
              "    </tr>\n",
              "  </tbody>\n",
              "</table>\n",
              "</div>"
            ],
            "text/plain": [
              "    0   1  2  3\n",
              "0  30  64  1  1\n",
              "1  30  62  3  1\n",
              "2  30  65  0  1\n",
              "3  31  59  2  1\n",
              "4  31  65  4  1"
            ]
          },
          "metadata": {
            "tags": []
          },
          "execution_count": 2
        }
      ]
    },
    {
      "cell_type": "code",
      "metadata": {
        "id": "wPwWUnwqimj2",
        "outputId": "42062ec8-212d-48ee-94c8-fc091c6625fc"
      },
      "source": [
        "#getting the dimensions of the data\n",
        "print(df.shape)\n",
        "r= len(df.axes[0])\n",
        "c= len(df.axes[1])\n",
        "print(\"The number of columns in the data set are: {} \".format(c))\n",
        "print(\"The number of rows in the data set are: {} \".format(r))"
      ],
      "execution_count": null,
      "outputs": [
        {
          "output_type": "stream",
          "text": [
            "(306, 4)\n",
            "The number of columns in the data set are: 4 \n",
            "The number of rows in the data set are: 306 \n"
          ],
          "name": "stdout"
        }
      ]
    },
    {
      "cell_type": "code",
      "metadata": {
        "id": "gy3xzRpvimj4",
        "outputId": "8cd20756-ed80-474b-b322-2748a7b84bc9"
      },
      "source": [
        "#get the names of the coulumns\n",
        "df.columns"
      ],
      "execution_count": null,
      "outputs": [
        {
          "output_type": "execute_result",
          "data": {
            "text/plain": [
              "Int64Index([0, 1, 2, 3], dtype='int64')"
            ]
          },
          "metadata": {
            "tags": []
          },
          "execution_count": 4
        }
      ]
    },
    {
      "cell_type": "code",
      "metadata": {
        "id": "ZmSE0ozgimj5",
        "outputId": "a06cbe41-367f-4de6-9e32-444d93b88424"
      },
      "source": [
        "#look at the first 5 rows of the dataset\n",
        "df.head()"
      ],
      "execution_count": null,
      "outputs": [
        {
          "output_type": "execute_result",
          "data": {
            "text/html": [
              "<div>\n",
              "<style scoped>\n",
              "    .dataframe tbody tr th:only-of-type {\n",
              "        vertical-align: middle;\n",
              "    }\n",
              "\n",
              "    .dataframe tbody tr th {\n",
              "        vertical-align: top;\n",
              "    }\n",
              "\n",
              "    .dataframe thead th {\n",
              "        text-align: right;\n",
              "    }\n",
              "</style>\n",
              "<table border=\"1\" class=\"dataframe\">\n",
              "  <thead>\n",
              "    <tr style=\"text-align: right;\">\n",
              "      <th></th>\n",
              "      <th>0</th>\n",
              "      <th>1</th>\n",
              "      <th>2</th>\n",
              "      <th>3</th>\n",
              "    </tr>\n",
              "  </thead>\n",
              "  <tbody>\n",
              "    <tr>\n",
              "      <th>0</th>\n",
              "      <td>30</td>\n",
              "      <td>64</td>\n",
              "      <td>1</td>\n",
              "      <td>1</td>\n",
              "    </tr>\n",
              "    <tr>\n",
              "      <th>1</th>\n",
              "      <td>30</td>\n",
              "      <td>62</td>\n",
              "      <td>3</td>\n",
              "      <td>1</td>\n",
              "    </tr>\n",
              "    <tr>\n",
              "      <th>2</th>\n",
              "      <td>30</td>\n",
              "      <td>65</td>\n",
              "      <td>0</td>\n",
              "      <td>1</td>\n",
              "    </tr>\n",
              "    <tr>\n",
              "      <th>3</th>\n",
              "      <td>31</td>\n",
              "      <td>59</td>\n",
              "      <td>2</td>\n",
              "      <td>1</td>\n",
              "    </tr>\n",
              "    <tr>\n",
              "      <th>4</th>\n",
              "      <td>31</td>\n",
              "      <td>65</td>\n",
              "      <td>4</td>\n",
              "      <td>1</td>\n",
              "    </tr>\n",
              "  </tbody>\n",
              "</table>\n",
              "</div>"
            ],
            "text/plain": [
              "    0   1  2  3\n",
              "0  30  64  1  1\n",
              "1  30  62  3  1\n",
              "2  30  65  0  1\n",
              "3  31  59  2  1\n",
              "4  31  65  4  1"
            ]
          },
          "metadata": {
            "tags": []
          },
          "execution_count": 5
        }
      ]
    },
    {
      "cell_type": "code",
      "metadata": {
        "id": "VrKEE1pNimj6",
        "outputId": "97990f96-c819-4116-f74c-b53cb77f7749"
      },
      "source": [
        "df"
      ],
      "execution_count": null,
      "outputs": [
        {
          "output_type": "execute_result",
          "data": {
            "text/html": [
              "<div>\n",
              "<style scoped>\n",
              "    .dataframe tbody tr th:only-of-type {\n",
              "        vertical-align: middle;\n",
              "    }\n",
              "\n",
              "    .dataframe tbody tr th {\n",
              "        vertical-align: top;\n",
              "    }\n",
              "\n",
              "    .dataframe thead th {\n",
              "        text-align: right;\n",
              "    }\n",
              "</style>\n",
              "<table border=\"1\" class=\"dataframe\">\n",
              "  <thead>\n",
              "    <tr style=\"text-align: right;\">\n",
              "      <th></th>\n",
              "      <th>0</th>\n",
              "      <th>1</th>\n",
              "      <th>2</th>\n",
              "      <th>3</th>\n",
              "    </tr>\n",
              "  </thead>\n",
              "  <tbody>\n",
              "    <tr>\n",
              "      <th>0</th>\n",
              "      <td>30</td>\n",
              "      <td>64</td>\n",
              "      <td>1</td>\n",
              "      <td>1</td>\n",
              "    </tr>\n",
              "    <tr>\n",
              "      <th>1</th>\n",
              "      <td>30</td>\n",
              "      <td>62</td>\n",
              "      <td>3</td>\n",
              "      <td>1</td>\n",
              "    </tr>\n",
              "    <tr>\n",
              "      <th>2</th>\n",
              "      <td>30</td>\n",
              "      <td>65</td>\n",
              "      <td>0</td>\n",
              "      <td>1</td>\n",
              "    </tr>\n",
              "    <tr>\n",
              "      <th>3</th>\n",
              "      <td>31</td>\n",
              "      <td>59</td>\n",
              "      <td>2</td>\n",
              "      <td>1</td>\n",
              "    </tr>\n",
              "    <tr>\n",
              "      <th>4</th>\n",
              "      <td>31</td>\n",
              "      <td>65</td>\n",
              "      <td>4</td>\n",
              "      <td>1</td>\n",
              "    </tr>\n",
              "    <tr>\n",
              "      <th>...</th>\n",
              "      <td>...</td>\n",
              "      <td>...</td>\n",
              "      <td>...</td>\n",
              "      <td>...</td>\n",
              "    </tr>\n",
              "    <tr>\n",
              "      <th>301</th>\n",
              "      <td>75</td>\n",
              "      <td>62</td>\n",
              "      <td>1</td>\n",
              "      <td>1</td>\n",
              "    </tr>\n",
              "    <tr>\n",
              "      <th>302</th>\n",
              "      <td>76</td>\n",
              "      <td>67</td>\n",
              "      <td>0</td>\n",
              "      <td>1</td>\n",
              "    </tr>\n",
              "    <tr>\n",
              "      <th>303</th>\n",
              "      <td>77</td>\n",
              "      <td>65</td>\n",
              "      <td>3</td>\n",
              "      <td>1</td>\n",
              "    </tr>\n",
              "    <tr>\n",
              "      <th>304</th>\n",
              "      <td>78</td>\n",
              "      <td>65</td>\n",
              "      <td>1</td>\n",
              "      <td>2</td>\n",
              "    </tr>\n",
              "    <tr>\n",
              "      <th>305</th>\n",
              "      <td>83</td>\n",
              "      <td>58</td>\n",
              "      <td>2</td>\n",
              "      <td>2</td>\n",
              "    </tr>\n",
              "  </tbody>\n",
              "</table>\n",
              "<p>306 rows × 4 columns</p>\n",
              "</div>"
            ],
            "text/plain": [
              "      0   1  2  3\n",
              "0    30  64  1  1\n",
              "1    30  62  3  1\n",
              "2    30  65  0  1\n",
              "3    31  59  2  1\n",
              "4    31  65  4  1\n",
              "..   ..  .. .. ..\n",
              "301  75  62  1  1\n",
              "302  76  67  0  1\n",
              "303  77  65  3  1\n",
              "304  78  65  1  2\n",
              "305  83  58  2  2\n",
              "\n",
              "[306 rows x 4 columns]"
            ]
          },
          "metadata": {
            "tags": []
          },
          "execution_count": 6
        }
      ]
    },
    {
      "cell_type": "markdown",
      "metadata": {
        "id": "80jiHzveimj6"
      },
      "source": [
        "Observation"
      ]
    },
    {
      "cell_type": "markdown",
      "metadata": {
        "id": "OCMGO8goimj7"
      },
      "source": [
        "It is evnident that the data set doenst have the column labels hence the first observation has been taken as the column names.\n",
        "As per the above the data set has a total of 305 rows and 4 columns but since the first observation has been taken as a the\n",
        "tile of the columnns, the dataset actually has 306 rows and 4 columns\n",
        "\n",
        "Next Steps\n",
        "Find out what are the column names and what they actually represent and give column labels accordingly."
      ]
    },
    {
      "cell_type": "markdown",
      "metadata": {
        "id": "knWPFiHrimj7"
      },
      "source": [
        "Next Steps: Step 1\n",
        "\n",
        "I was able to find out from the description of the dataset that the attribute information is as below:\n",
        "\n",
        "Attribute Information:\n",
        "\n",
        "Age of patient at time of operation (numerical)\n",
        "Patient's year of operation (year - 1900, numerical)\n",
        "Number of positive axillary nodes detected (numerical)\n",
        "Survival status (class attribute)\n",
        "1 = the patient survived 5 years or longer\n",
        "2 = the patient died within 5 year"
      ]
    },
    {
      "cell_type": "code",
      "metadata": {
        "id": "AAU3U-8Eimj8"
      },
      "source": [
        "#Giving each of the attributes its appropriate Title\n",
        "attr_labels=[\"age\",\"Year of Operation\",\"# Positive axillary nodes detected\",'survival status']"
      ],
      "execution_count": null,
      "outputs": []
    },
    {
      "cell_type": "code",
      "metadata": {
        "id": "VEJhPKDjimj9",
        "outputId": "9065292c-ab06-4cbc-ffd7-a652545e6d19"
      },
      "source": [
        "df.columns=attr_labels \n",
        "df.head()"
      ],
      "execution_count": null,
      "outputs": [
        {
          "output_type": "execute_result",
          "data": {
            "text/html": [
              "<div>\n",
              "<style scoped>\n",
              "    .dataframe tbody tr th:only-of-type {\n",
              "        vertical-align: middle;\n",
              "    }\n",
              "\n",
              "    .dataframe tbody tr th {\n",
              "        vertical-align: top;\n",
              "    }\n",
              "\n",
              "    .dataframe thead th {\n",
              "        text-align: right;\n",
              "    }\n",
              "</style>\n",
              "<table border=\"1\" class=\"dataframe\">\n",
              "  <thead>\n",
              "    <tr style=\"text-align: right;\">\n",
              "      <th></th>\n",
              "      <th>age</th>\n",
              "      <th>Year of Operation</th>\n",
              "      <th># Positive axillary nodes detected</th>\n",
              "      <th>survival status</th>\n",
              "    </tr>\n",
              "  </thead>\n",
              "  <tbody>\n",
              "    <tr>\n",
              "      <th>0</th>\n",
              "      <td>30</td>\n",
              "      <td>64</td>\n",
              "      <td>1</td>\n",
              "      <td>1</td>\n",
              "    </tr>\n",
              "    <tr>\n",
              "      <th>1</th>\n",
              "      <td>30</td>\n",
              "      <td>62</td>\n",
              "      <td>3</td>\n",
              "      <td>1</td>\n",
              "    </tr>\n",
              "    <tr>\n",
              "      <th>2</th>\n",
              "      <td>30</td>\n",
              "      <td>65</td>\n",
              "      <td>0</td>\n",
              "      <td>1</td>\n",
              "    </tr>\n",
              "    <tr>\n",
              "      <th>3</th>\n",
              "      <td>31</td>\n",
              "      <td>59</td>\n",
              "      <td>2</td>\n",
              "      <td>1</td>\n",
              "    </tr>\n",
              "    <tr>\n",
              "      <th>4</th>\n",
              "      <td>31</td>\n",
              "      <td>65</td>\n",
              "      <td>4</td>\n",
              "      <td>1</td>\n",
              "    </tr>\n",
              "  </tbody>\n",
              "</table>\n",
              "</div>"
            ],
            "text/plain": [
              "   age  Year of Operation  # Positive axillary nodes detected  survival status\n",
              "0   30                 64                                   1                1\n",
              "1   30                 62                                   3                1\n",
              "2   30                 65                                   0                1\n",
              "3   31                 59                                   2                1\n",
              "4   31                 65                                   4                1"
            ]
          },
          "metadata": {
            "tags": []
          },
          "execution_count": 8
        }
      ]
    },
    {
      "cell_type": "code",
      "metadata": {
        "id": "pLv7OHpRimj9",
        "outputId": "16cc3dc7-b8f4-46d9-99a1-3d34b8f81d2b"
      },
      "source": [
        "#check for Null values in a DataFrame\n",
        "df.isnull().sum()"
      ],
      "execution_count": null,
      "outputs": [
        {
          "output_type": "execute_result",
          "data": {
            "text/plain": [
              "age                                   0\n",
              "Year of Operation                     0\n",
              "# Positive axillary nodes detected    0\n",
              "survival status                       0\n",
              "dtype: int64"
            ]
          },
          "metadata": {
            "tags": []
          },
          "execution_count": 9
        }
      ]
    },
    {
      "cell_type": "markdown",
      "metadata": {
        "id": "FX7j_iFUimj-"
      },
      "source": [
        "It is evident from above that there are no missing values in the dataframe"
      ]
    },
    {
      "cell_type": "code",
      "metadata": {
        "id": "B9AtFAfpimj-",
        "outputId": "6f7ce8d3-d0bf-4f2b-f6fb-f2bc597b3b26"
      },
      "source": [
        "#Getting the DateTypes of all the attributes in the dataframe\n",
        "df.info()"
      ],
      "execution_count": null,
      "outputs": [
        {
          "output_type": "stream",
          "text": [
            "<class 'pandas.core.frame.DataFrame'>\n",
            "RangeIndex: 306 entries, 0 to 305\n",
            "Data columns (total 4 columns):\n",
            " #   Column                              Non-Null Count  Dtype\n",
            "---  ------                              --------------  -----\n",
            " 0   age                                 306 non-null    int64\n",
            " 1   Year of Operation                   306 non-null    int64\n",
            " 2   # Positive axillary nodes detected  306 non-null    int64\n",
            " 3   survival status                     306 non-null    int64\n",
            "dtypes: int64(4)\n",
            "memory usage: 9.7 KB\n"
          ],
          "name": "stdout"
        }
      ]
    },
    {
      "cell_type": "markdown",
      "metadata": {
        "id": "VwRtTj-simj_"
      },
      "source": [
        "Observation: All the 4 columns appear to be of the int Data Type and the datatype of each of the attributes matches with the \n",
        "description of the dataset"
      ]
    },
    {
      "cell_type": "markdown",
      "metadata": {
        "id": "8owv-u7-imkA"
      },
      "source": [
        "Since the Year of Operation attribute is in the 20th century but the Year of operation attribute only has the last 2 digits of\n",
        "the attribute hence adding 1900 to each of the row items to display the year as 19XX"
      ]
    },
    {
      "cell_type": "code",
      "metadata": {
        "id": "QIc2-Hd_imkA",
        "outputId": "2e0dc0bd-f24d-4b26-a7bd-f114a521a795"
      },
      "source": [
        "df['Year of Operation']= df['Year of Operation']+1900\n",
        "df.head()"
      ],
      "execution_count": null,
      "outputs": [
        {
          "output_type": "execute_result",
          "data": {
            "text/html": [
              "<div>\n",
              "<style scoped>\n",
              "    .dataframe tbody tr th:only-of-type {\n",
              "        vertical-align: middle;\n",
              "    }\n",
              "\n",
              "    .dataframe tbody tr th {\n",
              "        vertical-align: top;\n",
              "    }\n",
              "\n",
              "    .dataframe thead th {\n",
              "        text-align: right;\n",
              "    }\n",
              "</style>\n",
              "<table border=\"1\" class=\"dataframe\">\n",
              "  <thead>\n",
              "    <tr style=\"text-align: right;\">\n",
              "      <th></th>\n",
              "      <th>age</th>\n",
              "      <th>Year of Operation</th>\n",
              "      <th># Positive axillary nodes detected</th>\n",
              "      <th>survival status</th>\n",
              "    </tr>\n",
              "  </thead>\n",
              "  <tbody>\n",
              "    <tr>\n",
              "      <th>0</th>\n",
              "      <td>30</td>\n",
              "      <td>1964</td>\n",
              "      <td>1</td>\n",
              "      <td>1</td>\n",
              "    </tr>\n",
              "    <tr>\n",
              "      <th>1</th>\n",
              "      <td>30</td>\n",
              "      <td>1962</td>\n",
              "      <td>3</td>\n",
              "      <td>1</td>\n",
              "    </tr>\n",
              "    <tr>\n",
              "      <th>2</th>\n",
              "      <td>30</td>\n",
              "      <td>1965</td>\n",
              "      <td>0</td>\n",
              "      <td>1</td>\n",
              "    </tr>\n",
              "    <tr>\n",
              "      <th>3</th>\n",
              "      <td>31</td>\n",
              "      <td>1959</td>\n",
              "      <td>2</td>\n",
              "      <td>1</td>\n",
              "    </tr>\n",
              "    <tr>\n",
              "      <th>4</th>\n",
              "      <td>31</td>\n",
              "      <td>1965</td>\n",
              "      <td>4</td>\n",
              "      <td>1</td>\n",
              "    </tr>\n",
              "  </tbody>\n",
              "</table>\n",
              "</div>"
            ],
            "text/plain": [
              "   age  Year of Operation  # Positive axillary nodes detected  survival status\n",
              "0   30               1964                                   1                1\n",
              "1   30               1962                                   3                1\n",
              "2   30               1965                                   0                1\n",
              "3   31               1959                                   2                1\n",
              "4   31               1965                                   4                1"
            ]
          },
          "metadata": {
            "tags": []
          },
          "execution_count": 11
        }
      ]
    },
    {
      "cell_type": "code",
      "metadata": {
        "id": "DspDLDqbimkB",
        "outputId": "3ec305b1-0305-4142-cd58-1debb615d226"
      },
      "source": [
        "#Check the distribution of Survival Status of the pateients between the two classes\n",
        "count_1= 0\n",
        "count_2= 0\n",
        "for i in df['survival status']:\n",
        "    if i == 1:\n",
        "        count_1= count_1+1\n",
        "    else:\n",
        "        count_2= count_2+1\n",
        "        \n",
        "print(\"The Number of patients who survived 5 years or longer are: {}\".format(count_1))\n",
        "print(\"The Number of patients who died wihtin 5 years are: {}\".format(count_2))\n",
        "print(\"The percentage of the patients who survived 5 years or longer are\",count_1/(count_1+count_2))\n",
        "print(\"The percentage of the patients who died wihtin 5 years are\",count_2/(count_1+count_2))"
      ],
      "execution_count": null,
      "outputs": [
        {
          "output_type": "stream",
          "text": [
            "The Number of patients who survived 5 years or longer are: 225\n",
            "The Number of patients who died wihtin 5 years are: 81\n",
            "The percentage of the patients who survived 5 years or longer are 0.7352941176470589\n",
            "The percentage of the patients who died wihtin 5 years are 0.2647058823529412\n"
          ],
          "name": "stdout"
        }
      ]
    },
    {
      "cell_type": "markdown",
      "metadata": {
        "id": "Eks_aXx_imkC"
      },
      "source": [
        "Observations: From the above analysis it is evident that 73.5% of the patients have survived the treatment while 26.4% of the\n",
        "patients have died wihtin 5 years."
      ]
    },
    {
      "cell_type": "code",
      "metadata": {
        "id": "zykm9K77imkC",
        "outputId": "e53e3001-74ae-4cd2-e42e-e9aa0ea48105"
      },
      "source": [
        "#Plot a bar chart to look at the distribution of the survival status\n",
        "\n",
        "#Setting up the dimensions of the background plane or the layout with width 10 and height 5\n",
        "fig= plt.figure(figsize=(10,5))\n",
        "\n",
        "#Plotting the bar chart\n",
        "status= [\"Survived >5 Years\",\"Falied to Survive\"]\n",
        "counts= [count_1, count_2]\n",
        "\n",
        "plt.bar(status,counts, color=\"blue\", width=0.4)\n",
        "\n",
        "plt.xlabel(\"Survival Status\")\n",
        "plt.ylabel(\"Count of each Class\")\n",
        "plt.title(\"Distribution of the Survival Status attribute\")\n",
        "plt.show()\n"
      ],
      "execution_count": null,
      "outputs": [
        {
          "output_type": "display_data",
          "data": {
            "image/png": "[encoded data removed]",
            "text/plain": [
              "<Figure size 720x360 with 1 Axes>"
            ]
          },
          "metadata": {
            "tags": [],
            "needs_background": "light"
          }
        }
      ]
    },
    {
      "cell_type": "code",
      "metadata": {
        "id": "K38NaivFimkD",
        "outputId": "70307c89-047b-491d-d4d1-5841eeb71a52"
      },
      "source": [
        "#Checking if the attribute Number of Positive axillary nodes detected attribute has classes or just integeres\n",
        "u= df['# Positive axillary nodes detected'].unique()\n",
        "print(\"The number of unique elements in the atrribute are: \", len(u))\n",
        "print(\"The Unique elements in the attribute are: \", u)"
      ],
      "execution_count": null,
      "outputs": [
        {
          "output_type": "stream",
          "text": [
            "The number of unique elements in the atrribute are:  31\n",
            "The Unique elements in the attribute are:  [ 1  3  0  2  4 10  9 30  7 13  6 15 21 11  5 23  8 20 52 14 19 16 12 24\n",
            " 46 18 22 35 17 25 28]\n"
          ],
          "name": "stdout"
        }
      ]
    },
    {
      "cell_type": "markdown",
      "metadata": {
        "id": "G3h772d0imkD"
      },
      "source": [
        "Observation: Since there are 31 unique elements in the column \"# Positive axillary nodes detected\", it is not advisable to\n",
        "consider the attribute as a class variable"
      ]
    },
    {
      "cell_type": "code",
      "metadata": {
        "id": "KI1e-MRSimkE",
        "outputId": "409ad18b-7ae2-467b-abd9-5c265542ecca"
      },
      "source": [
        "#Looking at the age distribution of the patients\n",
        "print(\"The Minimum age of the patinets in the study is: \", df[\"age\"].min())\n",
        "print(\"The Maximum age of the patients in the stuy is: \", df[\"age\"].max())\n",
        "print(\"The mean age of the patients in the study is: \", df[\"age\"].mean())\n",
        "print(\"The median age of the patients in the study is: \", df[\"age\"].median())\n",
        "print(\"The standard deviation of the age of the patients in the studyt is: \", df[\"age\"].std())\n"
      ],
      "execution_count": null,
      "outputs": [
        {
          "output_type": "stream",
          "text": [
            "The Minimum age of the patinets in the study is:  30\n",
            "The Maximum age of the patients in the stuy is:  83\n",
            "The mean age of the patients in the study is:  52.45751633986928\n",
            "The median age of the patients in the study is:  52.0\n",
            "The standard deviation of the age of the patients in the studyt is:  10.80345234930328\n"
          ],
          "name": "stdout"
        }
      ]
    },
    {
      "cell_type": "markdown",
      "metadata": {
        "id": "uXM-I3jsimkF"
      },
      "source": [
        "Observation:The data shows that the study has covered adult population with age spanning from 3 years to 83 years and the\n",
        "average age of the patient at close to 52 years. It looks like the study has focused a little more on the ageing population.\n",
        "Since cancer is predominantly common in the senior population the study has focused on the same\n",
        "\n",
        "From the cursory look at the mean and the median values, it seems like the age attribute is normally disctributed"
      ]
    },
    {
      "cell_type": "code",
      "metadata": {
        "id": "XmFVAd3ximkF",
        "outputId": "8e7f4f1b-8dbf-433c-eee1-9fc99e055950"
      },
      "source": [
        "#plotting to see if the Age attribute is well distributed\n",
        "sns.FacetGrid(df, height=5).map(sns.distplot,\"age\")\n",
        "plt.show()"
      ],
      "execution_count": null,
      "outputs": [
        {
          "output_type": "display_data",
          "data": {
            "image/png": "[encoded data removed]",
            "text/plain": [
              "<Figure size 360x360 with 1 Axes>"
            ]
          },
          "metadata": {
            "tags": [],
            "needs_background": "light"
          }
        }
      ]
    },
    {
      "cell_type": "code",
      "metadata": {
        "id": "_DZ4NPJtimkG",
        "outputId": "ef058dcb-92d2-474b-bf46-0f1a94140702"
      },
      "source": [
        "#Looking at the number of years and the years the data was collected\n",
        "years= df['Year of Operation'].unique()\n",
        "years.sort()\n",
        "print(\"The Number of Years the data was collected: \", len(years))\n",
        "print(\"The Years during which the study was carried out \", years)"
      ],
      "execution_count": null,
      "outputs": [
        {
          "output_type": "stream",
          "text": [
            "The Number of Years the data was collected:  12\n",
            "The Years during which the study was carried out  [1958 1959 1960 1961 1962 1963 1964 1965 1966 1967 1968 1969]\n"
          ],
          "name": "stdout"
        }
      ]
    },
    {
      "cell_type": "code",
      "metadata": {
        "id": "kyzC-V0kimkG",
        "outputId": "37b141be-f76a-4be4-c7a8-76b42b1e3cf0"
      },
      "source": [
        "#Get the number of row itesm for each of the years\n",
        "y= list(df['Year of Operation'].value_counts())\n",
        "y"
      ],
      "execution_count": null,
      "outputs": [
        {
          "output_type": "execute_result",
          "data": {
            "text/plain": [
              "[36, 31, 30, 28, 28, 28, 27, 26, 25, 23, 13, 11]"
            ]
          },
          "metadata": {
            "tags": []
          },
          "execution_count": 60
        }
      ]
    },
    {
      "cell_type": "code",
      "metadata": {
        "id": "bv1Ral2IimkH",
        "outputId": "0d1fe541-b48b-4add-e915-5e9f45d6d771"
      },
      "source": [
        "#Plotting to see the distribution of the samples year wise\n",
        "\n",
        "#Setting up the backgroud plane\n",
        "fig= plt.figure(figsize= (12,6))\n",
        "\n",
        "#Plotting the Histrograms\n",
        "plt.bar(years,y,color= 'red',width=0.4)\n",
        "plt.xlabel(\"Year of Operation\")\n",
        "plt.ylabel(\"Counts\")\n",
        "plt.title(\"Year Wise Count of the Patients\")\n",
        "plt.show()"
      ],
      "execution_count": null,
      "outputs": [
        {
          "output_type": "display_data",
          "data": {
            "image/png": "[encoded data removed]",
            "text/plain": [
              "<Figure size 864x432 with 1 Axes>"
            ]
          },
          "metadata": {
            "tags": [],
            "needs_background": "light"
          }
        }
      ]
    },
    {
      "cell_type": "markdown",
      "metadata": {
        "id": "cIeWspehimkH"
      },
      "source": [
        "Observation: The patient count has been coming down from the start to the end of the study, the patient count started at 36 and\n",
        "has gradually come down to 13 by the end of the study. No Specific reason has been mentioned in the description for the fall in \n",
        "the patient count."
      ]
    },
    {
      "cell_type": "code",
      "metadata": {
        "id": "KCUZpSvyimkI",
        "outputId": "ad4ff144-9dc4-4a1a-d0a4-8769192db12b"
      },
      "source": [
        "#Checking for the number of positive axillary nodes detected values\n",
        "a= list(df[\"# Positive axillary nodes detected\"].unique())\n",
        "print(a)\n",
        "len(a)"
      ],
      "execution_count": null,
      "outputs": [
        {
          "output_type": "stream",
          "text": [
            "[1, 3, 0, 2, 4, 10, 9, 30, 7, 13, 6, 15, 21, 11, 5, 23, 8, 20, 52, 14, 19, 16, 12, 24, 46, 18, 22, 35, 17, 25, 28]\n"
          ],
          "name": "stdout"
        },
        {
          "output_type": "execute_result",
          "data": {
            "text/plain": [
              "31"
            ]
          },
          "metadata": {
            "tags": []
          },
          "execution_count": 65
        }
      ]
    },
    {
      "cell_type": "markdown",
      "metadata": {
        "id": "YqH63jbGimkI"
      },
      "source": [
        "# Objecttive: To find out the most influenctial attribute on the Survival Staus"
      ]
    },
    {
      "cell_type": "markdown",
      "metadata": {
        "id": "LC-cScrZimkJ"
      },
      "source": [
        "# Univariate Analysis"
      ]
    },
    {
      "cell_type": "code",
      "metadata": {
        "id": "PTDbbOkPimkJ"
      },
      "source": [
        "#Changing the survival status variable from classes 1 and 2 to \"Alive\" and \"Dead\"\n",
        "for i in df[\"survival status\"]:\n",
        "    if i==1:\n",
        "        "
      ],
      "execution_count": null,
      "outputs": []
    },
    {
      "cell_type": "code",
      "metadata": {
        "id": "pyhXemdjimkJ",
        "outputId": "bb2e2652-2496-4fa0-f12f-c75b45d691db"
      },
      "source": [
        "#Chcking the distribution of the Age attribute on the survival status\n",
        "sns.FacetGrid(df,hue= \"survival status\", height=5).map(sns.distplot,'age').add_legend()\n",
        "plt.show()\n"
      ],
      "execution_count": null,
      "outputs": [
        {
          "output_type": "display_data",
          "data": {
            "image/png": "[encoded data removed]",
            "text/plain": [
              "<Figure size 441.25x360 with 1 Axes>"
            ]
          },
          "metadata": {
            "tags": [],
            "needs_background": "light"
          }
        }
      ]
    },
    {
      "cell_type": "markdown",
      "metadata": {
        "id": "tKC41iSUimkK"
      },
      "source": [
        "Observation:There is almost a complete overlap of the two clasess of Survival Status hence age alone cannot be used to\n",
        "differentiate between the 2 classes of the Survival Status"
      ]
    },
    {
      "cell_type": "code",
      "metadata": {
        "id": "bRwgk_A0imkK",
        "outputId": "7d2202cb-d45f-4410-ec47-71356ad11867"
      },
      "source": [
        "sns.FacetGrid(df,hue='survival status',height=5).map(sns.distplot,'Year of Operation').add_legend()\n",
        "plt.show()"
      ],
      "execution_count": null,
      "outputs": [
        {
          "output_type": "display_data",
          "data": {
            "image/png": "[encoded data removed]",
            "text/plain": [
              "<Figure size 441.25x360 with 1 Axes>"
            ]
          },
          "metadata": {
            "tags": [],
            "needs_background": "light"
          }
        }
      ]
    },
    {
      "cell_type": "code",
      "metadata": {
        "id": "nfgNDf5limkK",
        "outputId": "4f486afc-34ee-42f8-a435-dbc9436b95c2"
      },
      "source": [
        "sns.FacetGrid(df,hue='survival status',height=5).map(sns.distplot,'# Positive axillary nodes detected').add_legend()\n",
        "plt.show()"
      ],
      "execution_count": null,
      "outputs": [
        {
          "output_type": "display_data",
          "data": {
            "image/png": "[encoded data removed]",
            "text/plain": [
              "<Figure size 441.25x360 with 1 Axes>"
            ]
          },
          "metadata": {
            "tags": [],
            "needs_background": "light"
          }
        }
      ]
    },
    {
      "cell_type": "markdown",
      "metadata": {
        "id": "fVZKRZFzimkL"
      },
      "source": [
        "Observation: None of the attributes by themselves are able clearly seperate out the classes of Survival Status"
      ]
    },
    {
      "cell_type": "markdown",
      "metadata": {
        "id": "jbntfyXvimkL"
      },
      "source": [
        "Scatter Plots"
      ]
    },
    {
      "cell_type": "code",
      "metadata": {
        "id": "IR8c_QeUimkL",
        "outputId": "d7c48ac9-9769-4d20-ebe5-df0029c3a902"
      },
      "source": [
        "sns.set_style(\"darkgrid\")\n",
        "sns.FacetGrid(df,hue= 'survival status', height=5).map(plt.scatter,'age','Year of Operation').add_legend()\n",
        "plt.show()"
      ],
      "execution_count": null,
      "outputs": [
        {
          "output_type": "display_data",
          "data": {
            "image/png": "[encoded data removed]",
            "text/plain": [
              "<Figure size 432.25x360 with 1 Axes>"
            ]
          },
          "metadata": {
            "tags": []
          }
        }
      ]
    },
    {
      "cell_type": "markdown",
      "metadata": {
        "id": "wiWEPYccimkM"
      },
      "source": [
        "Observation: It did not really make sense to plot a scatter plot between the Year of Operation attribute and the age attribute"
      ]
    },
    {
      "cell_type": "code",
      "metadata": {
        "id": "ABf5La9simkM",
        "outputId": "d37a5775-b740-49bc-84dc-384d00c3501d"
      },
      "source": [
        "sns.set_style(\"darkgrid\")\n",
        "sns.FacetGrid(df,hue= 'survival status',height=5).map(plt.scatter,'age','# Positive axillary nodes detected').add_legend()\n",
        "plt.show()"
      ],
      "execution_count": null,
      "outputs": [
        {
          "output_type": "display_data",
          "data": {
            "image/png": "[encoded data removed]",
            "text/plain": [
              "<Figure size 432.25x360 with 1 Axes>"
            ]
          },
          "metadata": {
            "tags": []
          }
        }
      ]
    },
    {
      "cell_type": "code",
      "metadata": {
        "id": "-8-vPaj8imkN",
        "outputId": "9a7e1a4e-c29f-45ad-b7e2-f36f7dc1ad80"
      },
      "source": [
        "sns.set_style(\"darkgrid\")\n",
        "sns.FacetGrid(df,hue='survival status',height=5).map(plt.scatter,'Year of Operation','# Positive axillary nodes detected')\n",
        "plt.show()"
      ],
      "execution_count": null,
      "outputs": [
        {
          "output_type": "display_data",
          "data": {
            "image/png": "[encoded data removed]",
            "text/plain": [
              "<Figure size 360x360 with 1 Axes>"
            ]
          },
          "metadata": {
            "tags": []
          }
        }
      ]
    },
    {
      "cell_type": "markdown",
      "metadata": {
        "id": "LJCkt1DvimkN"
      },
      "source": [
        "Observation: It did not really make sense to plot a scatter plot between the Year of Operation attribute and the age attribute"
      ]
    },
    {
      "cell_type": "markdown",
      "metadata": {
        "id": "NOC2RnYEimkN"
      },
      "source": [
        "# MultiVariate Analysis"
      ]
    },
    {
      "cell_type": "code",
      "metadata": {
        "id": "tVrF6H9RimkO",
        "outputId": "8f3efa2f-bef3-4e6a-abee-25664f83e2a2"
      },
      "source": [
        "#Plot BoxPlots to look at the quartile ranges\n",
        "sns.boxplot(x='survival status', y='age',data= df)\n",
        "plt.show()"
      ],
      "execution_count": null,
      "outputs": [
        {
          "output_type": "display_data",
          "data": {
            "image/png": "[encoded data removed]",
            "text/plain": [
              "<Figure size 432x288 with 1 Axes>"
            ]
          },
          "metadata": {
            "tags": []
          }
        }
      ]
    },
    {
      "cell_type": "markdown",
      "metadata": {
        "id": "m9AkLs7SimkO"
      },
      "source": [
        "Observation:Seems like the age attribute is equally distributed across the 2 classes of the survival staus with 50th percentile\n",
        "almost at 52 years of age and there is no clear distiction"
      ]
    },
    {
      "cell_type": "code",
      "metadata": {
        "id": "1q1aJ_SdimkO",
        "outputId": "ea604604-be2f-4aaa-8134-474cb49f1106"
      },
      "source": [
        "#Looking at the BoxPlot to look at the quartile ranges\n",
        "sns.boxplot(x='survival status',y='# Positive axillary nodes detected', data=df)\n",
        "plt.show()"
      ],
      "execution_count": null,
      "outputs": [
        {
          "output_type": "display_data",
          "data": {
            "image/png": "[encoded data removed]",
            "text/plain": [
              "<Figure size 432x288 with 1 Axes>"
            ]
          },
          "metadata": {
            "tags": []
          }
        }
      ]
    },
    {
      "cell_type": "markdown",
      "metadata": {
        "id": "qI2dZkbximkP"
      },
      "source": [
        "Observation: Looks like this is a little more useful than the other plots because atleast with 65-70 percent confidence that\n",
        "any value of Number of Positive axillary nodes detected above 3 can be clearly put into the death category "
      ]
    },
    {
      "cell_type": "code",
      "metadata": {
        "id": "WKWItEZZimkP"
      },
      "source": [
        ""
      ],
      "execution_count": null,
      "outputs": []
    }
  ]
}